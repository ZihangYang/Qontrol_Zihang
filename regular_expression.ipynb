{
 "cells": [
  {
   "cell_type": "code",
   "execution_count": 43,
   "id": "2b42167d-5c6f-420f-af65-6993bb8089c8",
   "metadata": {},
   "outputs": [
    {
     "name": "stdout",
     "output_type": "stream",
     "text": [
      "['+1.008', '-0.001']\n"
     ]
    }
   ],
   "source": [
    "import re\n",
    "\n",
    "txt = \"+1.008 V\\n-0.001 V\\n\"\n",
    "\n",
    "#Find all lower case characters alphabetically between \"a\" and \"m\":\n",
    "# x = re.findall(\"[a-m]\", txt)\n",
    "\n",
    "# x = re.findall('\\+|-[\\d\\.]+', txt)\n",
    "# x = re.search('(\\+|-)([\\d\\.]+)', txt)\n",
    "\n",
    "x = re.findall('[\\+|-][\\d\\.]+', txt)\n",
    "print(x)\n"
   ]
  },
  {
   "cell_type": "code",
   "execution_count": 42,
   "id": "8f662717-e0e6-4468-9c97-e3ec4e001ebc",
   "metadata": {},
   "outputs": [
    {
     "data": {
      "text/plain": [
       "\"\\nfirst group: (?:\\\\+|-|)\\n0 or 1 ':', followed by '+' or '-'\\n\\nsecond group: ([\\\\d\\\\.]+)\\na set of digits and '.', one or more occurrences\\n\""
      ]
     },
     "execution_count": 42,
     "metadata": {},
     "output_type": "execute_result"
    }
   ],
   "source": [
    "output_regex = '(?:\\+|-|)([\\d\\.]+)'\n",
    "\n",
    "\"\"\"\n",
    "first group: (?:\\+|-|)\n",
    "0 or 1 ':', followed by '+' or '-'\n",
    "\n",
    "second group: ([\\d\\.]+)\n",
    "a set of digits and '.', one or more occurrences\n",
    "\"\"\""
   ]
  },
  {
   "cell_type": "code",
   "execution_count": null,
   "id": "c955cc52-3ea0-4f8a-aeff-119d227c238f",
   "metadata": {},
   "outputs": [],
   "source": []
  }
 ],
 "metadata": {
  "kernelspec": {
   "display_name": "Python 3 (ipykernel)",
   "language": "python",
   "name": "python3"
  },
  "language_info": {
   "codemirror_mode": {
    "name": "ipython",
    "version": 3
   },
   "file_extension": ".py",
   "mimetype": "text/x-python",
   "name": "python",
   "nbconvert_exporter": "python",
   "pygments_lexer": "ipython3",
   "version": "3.9.12"
  }
 },
 "nbformat": 4,
 "nbformat_minor": 5
}
