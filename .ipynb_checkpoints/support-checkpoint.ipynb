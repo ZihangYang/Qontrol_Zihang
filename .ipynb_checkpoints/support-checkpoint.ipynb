{
 "cells": [
  {
   "cell_type": "code",
   "execution_count": 1,
   "id": "686a80d1-4858-4924-ab0d-7f2e3f37b900",
   "metadata": {
    "tags": []
   },
   "outputs": [],
   "source": [
    "import qontrol\n",
    "import matplotlib.pyplot as plt"
   ]
  },
  {
   "cell_type": "code",
   "execution_count": 1,
   "id": "81c8d8c5-5225-42db-9ca3-f5590e508767",
   "metadata": {
    "tags": []
   },
   "outputs": [],
   "source": [
    "serial_port_name = \"COM3\"\n",
    "q = qontrol.QXOutput(serial_port_name = serial_port_name, response_timeout = 0.1)"
   ]
  },
  {
   "cell_type": "code",
   "execution_count": 2,
   "id": "7292b48f-fc6e-44fc-94b8-71b1e2859e1e",
   "metadata": {},
   "outputs": [
    {
     "name": "stdout",
     "output_type": "stream",
     "text": [
      "Qontroller 'None' initialised with firmware v2.4.1 and 8 channels\n"
     ]
    }
   ],
   "source": [
    "print (\"Qontroller '{:}' initialised with firmware {:} and {:} channels\".format(q.device_id, q.firmware, q.n_chs) )"
   ]
  },
  {
   "cell_type": "code",
   "execution_count": null,
   "id": "1b016318-5459-4b64-9805-78b81091e920",
   "metadata": {},
   "outputs": [],
   "source": []
  },
  {
   "cell_type": "code",
   "execution_count": 3,
   "id": "cfc1a34c-1aeb-4c23-be96-ca475a494e39",
   "metadata": {},
   "outputs": [],
   "source": [
    "q.close()"
   ]
  },
  {
   "cell_type": "code",
   "execution_count": null,
   "id": "4056a8cb-91e0-4649-a20b-65f035109215",
   "metadata": {},
   "outputs": [],
   "source": []
  }
 ],
 "metadata": {
  "kernelspec": {
   "display_name": "Python 3 (ipykernel)",
   "language": "python",
   "name": "python3"
  },
  "language_info": {
   "codemirror_mode": {
    "name": "ipython",
    "version": 3
   },
   "file_extension": ".py",
   "mimetype": "text/x-python",
   "name": "python",
   "nbconvert_exporter": "python",
   "pygments_lexer": "ipython3",
   "version": "3.9.12"
  }
 },
 "nbformat": 4,
 "nbformat_minor": 5
}
