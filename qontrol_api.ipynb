{
 "cells": [
  {
   "cell_type": "code",
   "execution_count": 1,
   "id": "686a80d1-4858-4924-ab0d-7f2e3f37b900",
   "metadata": {
    "tags": []
   },
   "outputs": [],
   "source": [
    "import qontrol\n",
    "import matplotlib.pyplot as plt\n",
    "import numpy as np"
   ]
  },
  {
   "cell_type": "code",
   "execution_count": 2,
   "id": "81c8d8c5-5225-42db-9ca3-f5590e508767",
   "metadata": {
    "tags": []
   },
   "outputs": [],
   "source": [
    "serial_port_name = \"COM3\"\n",
    "q = qontrol.QXOutput(serial_port_name = serial_port_name, response_timeout = 0.1)"
   ]
  },
  {
   "cell_type": "code",
   "execution_count": 3,
   "id": "7292b48f-fc6e-44fc-94b8-71b1e2859e1e",
   "metadata": {},
   "outputs": [
    {
     "name": "stdout",
     "output_type": "stream",
     "text": [
      "Qontroller 'Q8iv-055D' initialised with firmware v2.4.1 and 8 channels\n"
     ]
    }
   ],
   "source": [
    "print (\"Qontroller '{:}' initialised with firmware {:} and {:} channels\".format(q.device_id, q.firmware, q.n_chs) )"
   ]
  },
  {
   "cell_type": "code",
   "execution_count": 2,
   "id": "6173f208-0f18-4744-bc1b-5d67729db7c6",
   "metadata": {
    "tags": []
   },
   "outputs": [
    {
     "name": "stdout",
     "output_type": "stream",
     "text": [
      "range(0, 8)\n"
     ]
    }
   ],
   "source": [
    "set_voltage = range(0,8,1)\n",
    "print(set_voltage)"
   ]
  },
  {
   "cell_type": "code",
   "execution_count": null,
   "id": "1b016318-5459-4b64-9805-78b81091e920",
   "metadata": {},
   "outputs": [],
   "source": [
    "q.v[0] = set_voltage"
   ]
  },
  {
   "cell_type": "code",
   "execution_count": 4,
   "id": "410b3ab7-fbc5-4fba-851f-3e05e5597bef",
   "metadata": {},
   "outputs": [],
   "source": [
    "q.v[:]=0"
   ]
  },
  {
   "cell_type": "code",
   "execution_count": 5,
   "id": "264ec408-e1a1-4088-81cf-882baffba1b3",
   "metadata": {},
   "outputs": [
    {
     "name": "stdout",
     "output_type": "stream",
     "text": [
      "[0.2011, 0.0, 0.0, 0.0, 0.0, -0.0, 0.0, 0.0]\n"
     ]
    }
   ],
   "source": [
    "print(q.v[:])"
   ]
  },
  {
   "cell_type": "code",
   "execution_count": null,
   "id": "cdfecd56-a77a-4707-99e0-8e8b9a2f6242",
   "metadata": {},
   "outputs": [],
   "source": [
    "# issue_command (self, command_id, ch=None, operator='', value=None, n_lines_requested=2**31, target_errors=None, output_regex='(.*)', special_timeout = None)"
   ]
  },
  {
   "cell_type": "code",
   "execution_count": 6,
   "id": "1204dba6-75fd-4a10-b95b-f610cc8fb0e0",
   "metadata": {},
   "outputs": [
    {
     "data": {
      "text/plain": [
       "[('+0.2010 V',),\n",
       " ('+0.0000 V',),\n",
       " ('+0.0000 V',),\n",
       " ('-0.0000 V',),\n",
       " ('+0.0000 V',),\n",
       " ('-0.0000 V',),\n",
       " ('-0.0000 V',),\n",
       " ('+0.0000 V',)]"
      ]
     },
     "execution_count": 6,
     "metadata": {},
     "output_type": "execute_result"
    }
   ],
   "source": [
    "q.issue_command(command_id = 'VALL', operator='?')"
   ]
  },
  {
   "cell_type": "code",
   "execution_count": 7,
   "id": "e97c2062-2ba5-459d-9726-3f2ae58a5d42",
   "metadata": {},
   "outputs": [
    {
     "data": {
      "text/plain": [
       "[('OK',)]"
      ]
     },
     "execution_count": 7,
     "metadata": {},
     "output_type": "execute_result"
    }
   ],
   "source": [
    "q.issue_command(command_id = 'IMAX', ch=0, operator='=', value=1)"
   ]
  },
  {
   "cell_type": "code",
   "execution_count": 18,
   "id": "3ff9fa24-a220-4d5e-8522-ae247eeac792",
   "metadata": {},
   "outputs": [
    {
     "name": "stdout",
     "output_type": "stream",
     "text": [
      "IMAX = '[0.9997, 24.0, 24.0, 24.0, 24.0, 24.0, 24.0, 24.0]' \n"
     ]
    }
   ],
   "source": [
    "print (\"IMAX = '{:}' \".format(q.imax) )"
   ]
  },
  {
   "cell_type": "code",
   "execution_count": 15,
   "id": "6277a56b-4b7c-42fa-b6dc-8b66750de71a",
   "metadata": {},
   "outputs": [
    {
     "data": {
      "text/plain": [
       "[('OK',)]"
      ]
     },
     "execution_count": 15,
     "metadata": {},
     "output_type": "execute_result"
    }
   ],
   "source": [
    "q.issue_command('v0=5')"
   ]
  },
  {
   "cell_type": "code",
   "execution_count": 16,
   "id": "627b6cc4-44a6-4402-95cd-bdc2102487b6",
   "metadata": {},
   "outputs": [
    {
     "data": {
      "text/plain": [
       "[('+0.0170 mA',)]"
      ]
     },
     "execution_count": 16,
     "metadata": {},
     "output_type": "execute_result"
    }
   ],
   "source": [
    "q.issue_command('i0?')"
   ]
  },
  {
   "cell_type": "code",
   "execution_count": 17,
   "id": "d2a702d9-75a8-433c-9081-417efc07d6ac",
   "metadata": {},
   "outputs": [
    {
     "data": {
      "text/plain": [
       "[('+5.1164 V',),\n",
       " ('-0.0000 V',),\n",
       " ('-0.0000 V',),\n",
       " ('-0.0000 V',),\n",
       " ('-0.0000 V',),\n",
       " ('-0.0001 V',),\n",
       " ('-0.0000 V',),\n",
       " ('-0.0000 V',)]"
      ]
     },
     "execution_count": 17,
     "metadata": {},
     "output_type": "execute_result"
    }
   ],
   "source": [
    "q.issue_command('VALL?')"
   ]
  },
  {
   "cell_type": "code",
   "execution_count": 6,
   "id": "cfc1a34c-1aeb-4c23-be96-ca475a494e39",
   "metadata": {},
   "outputs": [],
   "source": [
    "q.close()"
   ]
  },
  {
   "cell_type": "code",
   "execution_count": null,
   "id": "4056a8cb-91e0-4649-a20b-65f035109215",
   "metadata": {},
   "outputs": [],
   "source": []
  }
 ],
 "metadata": {
  "kernelspec": {
   "display_name": "Python 3 (ipykernel)",
   "language": "python",
   "name": "python3"
  },
  "language_info": {
   "codemirror_mode": {
    "name": "ipython",
    "version": 3
   },
   "file_extension": ".py",
   "mimetype": "text/x-python",
   "name": "python",
   "nbconvert_exporter": "python",
   "pygments_lexer": "ipython3",
   "version": "3.9.12"
  }
 },
 "nbformat": 4,
 "nbformat_minor": 5
}
